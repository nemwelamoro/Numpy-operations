{
  "nbformat": 4,
  "nbformat_minor": 0,
  "metadata": {
    "colab": {
      "provenance": []
    },
    "kernelspec": {
      "name": "python3",
      "display_name": "Python 3"
    },
    "language_info": {
      "name": "python"
    }
  },
  "cells": [
    {
      "cell_type": "markdown",
      "source": [
        "Installation of Numpy Using PIP"
      ],
      "metadata": {
        "id": "gi_0rYHosifM"
      }
    },
    {
      "cell_type": "code",
      "source": [
        "\n",
        "import numpy as np"
      ],
      "metadata": {
        "id": "4tnAcBwbJzmp"
      },
      "execution_count": 16,
      "outputs": []
    },
    {
      "cell_type": "code",
      "source": [
        "import numpy as np\n",
        "\n",
        "# Matrix multiplication\n",
        "A = np.array([[1, 2], [3, 4]])\n",
        "B = np.array([[5, 6], [7, 8]])\n",
        "result = np.dot(A, B)\n",
        "print(\"Matrix Multiplication:\")\n",
        "print(result)"
      ],
      "metadata": {
        "colab": {
          "base_uri": "https://localhost:8080/"
        },
        "id": "_tJ6ddqWLQ-P",
        "outputId": "b16e4b63-9ec3-4fe2-eaf6-3ac2b285cdc1"
      },
      "execution_count": 17,
      "outputs": [
        {
          "output_type": "stream",
          "name": "stdout",
          "text": [
            "Matrix Multiplication:\n",
            "[[19 22]\n",
            " [43 50]]\n"
          ]
        }
      ]
    },
    {
      "cell_type": "markdown",
      "source": [
        "Examples of the operations\n",
        "Linear Algebra functions\n"
      ],
      "metadata": {
        "id": "-b5F2bLZswb6"
      }
    },
    {
      "cell_type": "code",
      "source": [
        "import numpy as np\n",
        "\n",
        "# Matrix multiplication\n",
        "A = np.array([[1, 2], [3, 4]])\n",
        "B = np.array([[5, 6], [7, 8]])\n",
        "result = np.dot(A, B)\n",
        "print(\"Matrix Multiplication:\")\n",
        "print(result)\n",
        "\n",
        "# Matrix inversion\n",
        "A_inv = np.linalg.inv(A)\n",
        "print(\"\\nMatrix Inversion:\")\n",
        "print(A_inv)\n",
        "\n",
        "# Eigenvalue decomposition\n",
        "eigenvalues, eigenvectors = np.linalg.eig(A)\n",
        "print(\"\\nEigenvalues:\")\n",
        "print(eigenvalues)\n",
        "\n",
        "print(\"Eigenvectors:\")\n",
        "print(eigenvectors)\n"
      ],
      "metadata": {
        "colab": {
          "base_uri": "https://localhost:8080/"
        },
        "id": "6LJrbMdiLbKH",
        "outputId": "0d63b41a-de94-454d-fd7d-c04617a62d5a"
      },
      "execution_count": 8,
      "outputs": [
        {
          "output_type": "stream",
          "name": "stdout",
          "text": [
            "Matrix Multiplication:\n",
            "[[19 22]\n",
            " [43 50]]\n",
            "\n",
            "Matrix Inversion:\n",
            "[[-2.   1. ]\n",
            " [ 1.5 -0.5]]\n",
            "\n",
            "Eigenvalues:\n",
            "[-0.37228132  5.37228132]\n",
            "Eigenvectors:\n",
            "[[-0.82456484 -0.41597356]\n",
            " [ 0.56576746 -0.90937671]]\n"
          ]
        }
      ]
    },
    {
      "cell_type": "code",
      "source": [
        "# Generate random data\n",
        "data = np.random.randint(0, 100, size=(5, 5))\n",
        "print(\"Random Data:\")\n",
        "print(data)\n"
      ],
      "metadata": {
        "colab": {
          "base_uri": "https://localhost:8080/"
        },
        "id": "x8szQJvFLw8O",
        "outputId": "d36e86a5-4857-4f0b-85b9-652ff3136b52"
      },
      "execution_count": 9,
      "outputs": [
        {
          "output_type": "stream",
          "name": "stdout",
          "text": [
            "Random Data:\n",
            "[[53 68 79 11 38]\n",
            " [80 21 85 13 11]\n",
            " [59 53 76 42 83]\n",
            " [32 28 80 48 44]\n",
            " [18 37  8 36 14]]\n"
          ]
        }
      ]
    },
    {
      "cell_type": "markdown",
      "source": [
        "Statistical Functions"
      ],
      "metadata": {
        "id": "OVJboYVOs4ig"
      }
    },
    {
      "cell_type": "code",
      "source": [
        "import numpy as np\n",
        "\n",
        "# Generate random data\n",
        "data = np.random.randint(0, 100, size=(5, 5))\n",
        "print(\"Random Data:\")\n",
        "print(data)\n",
        "\n",
        "# Mean\n",
        "mean = np.mean(data)\n",
        "print(\"\\nMean:\")\n",
        "print(mean)\n",
        "\n",
        "# Standard deviation\n",
        "std_dev = np.std(data)\n",
        "print(\"\\nStandard Deviation:\")\n",
        "print(std_dev)\n",
        "\n",
        "# Correlation coefficient\n",
        "corr_coef = np.corrcoef(data)\n",
        "print(\"\\nCorrelation Coefficient:\")\n",
        "print(corr_coef)\n"
      ],
      "metadata": {
        "colab": {
          "base_uri": "https://localhost:8080/"
        },
        "id": "gaFB5rTfMLx3",
        "outputId": "0aad0ec8-2564-4380-f4e7-b47241ee7972"
      },
      "execution_count": 10,
      "outputs": [
        {
          "output_type": "stream",
          "name": "stdout",
          "text": [
            "Random Data:\n",
            "[[29 27 14 27 38]\n",
            " [12 92  1 91 61]\n",
            " [40 53  5 48 59]\n",
            " [30 61 73 20 14]\n",
            " [47  2  5 43 48]]\n",
            "\n",
            "Mean:\n",
            "37.6\n",
            "\n",
            "Standard Deviation:\n",
            "25.58280672639341\n",
            "\n",
            "Correlation Coefficient:\n",
            "[[ 1.          0.46233805  0.90923422 -0.82416465  0.69479463]\n",
            " [ 0.46233805  1.          0.76171082 -0.32588647  0.03505443]\n",
            " [ 0.90923422  0.76171082  1.         -0.69247967  0.48309368]\n",
            " [-0.82416465 -0.32588647 -0.69247967  1.         -0.95115406]\n",
            " [ 0.69479463  0.03505443  0.48309368 -0.95115406  1.        ]]\n"
          ]
        }
      ]
    },
    {
      "cell_type": "code",
      "source": [
        "arr= np.array([1,2,3],dtype=np.float64)"
      ],
      "metadata": {
        "id": "Njk44v7iSfv1"
      },
      "execution_count": null,
      "outputs": []
    },
    {
      "cell_type": "markdown",
      "source": [
        "ARRAYS: Key Features of NumPy Arrays"
      ],
      "metadata": {
        "id": "rbkX1OrKtCcz"
      }
    },
    {
      "cell_type": "code",
      "source": [
        "import numpy as np\n",
        "\n",
        "# Creating a 1-dimensional NumPy array\n",
        "arr1d = np.array([1, 2, 3, 4, 5])\n",
        "print(\"1D Array:\")\n",
        "print(arr1d)\n",
        "print(\"Shape:\", arr1d.shape)  # Shape of the array\n",
        "print(\"Data Type:\", arr1d.dtype)  # Data type of the elements\n",
        "print()\n",
        "\n",
        "# Creating a 2-dimensional NumPy array\n",
        "arr2d = np.array([[1, 2, 3], [4, 5, 6], [7, 8, 9]])\n",
        "print(\"2D Array:\")\n",
        "print(arr2d)\n",
        "print(\"Shape:\", arr2d.shape)\n",
        "print()\n",
        "\n",
        "# Basic operations with NumPy arrays\n",
        "print(\"Basic Operations:\")\n",
        "print(\"Array Addition:\")\n",
        "result_addition = arr1d + 10  # Adding scalar 10 to each element\n",
        "print(result_addition)\n",
        "print()\n",
        "\n",
        "print(\"Array Multiplication:\")\n",
        "result_multiplication = arr1d * 2  # Multiplying each element by scalar 2\n",
        "print(result_multiplication)\n",
        "print()\n",
        "\n",
        "print(\"Element-wise Exponential:\")\n",
        "result_exponential = np.exp(arr1d)  # Exponential function applied to each element\n",
        "print(result_exponential)\n",
        "print()\n",
        "\n",
        "print(\"Matrix Multiplication:\")\n",
        "matrix1 = np.array([[1, 2], [3, 4]])\n",
        "matrix2 = np.array([[5, 6], [7, 8]])\n",
        "result_matrix_multiplication = np.dot(matrix1, matrix2)  # Matrix multiplication\n",
        "print(result_matrix_multiplication)\n"
      ],
      "metadata": {
        "colab": {
          "base_uri": "https://localhost:8080/"
        },
        "id": "9OmPPxcteots",
        "outputId": "00e5caa6-3dd3-4c33-9529-c498cac04694"
      },
      "execution_count": null,
      "outputs": [
        {
          "output_type": "stream",
          "name": "stdout",
          "text": [
            "1D Array:\n",
            "[1 2 3 4 5]\n",
            "Shape: (5,)\n",
            "Data Type: int64\n",
            "\n",
            "2D Array:\n",
            "[[1 2 3]\n",
            " [4 5 6]\n",
            " [7 8 9]]\n",
            "Shape: (3, 3)\n",
            "\n",
            "Basic Operations:\n",
            "Array Addition:\n",
            "[11 12 13 14 15]\n",
            "\n",
            "Array Multiplication:\n",
            "[ 2  4  6  8 10]\n",
            "\n",
            "Element-wise Exponential:\n",
            "[  2.71828183   7.3890561   20.08553692  54.59815003 148.4131591 ]\n",
            "\n",
            "Matrix Multiplication:\n",
            "[[19 22]\n",
            " [43 50]]\n"
          ]
        }
      ]
    },
    {
      "cell_type": "markdown",
      "source": [
        "•\tHomogeneous Data Type"
      ],
      "metadata": {
        "id": "dIdOw4X4ktiS"
      }
    },
    {
      "cell_type": "code",
      "source": [
        "import numpy as np\n",
        "\n",
        "# Creating a NumPy array with integers\n",
        "arr_int = np.array([1, 2, 3, 4, 5])\n",
        "\n",
        "# Creating a NumPy array with floating-point numbers\n",
        "arr_float = np.array([1.0, 2.5, 3.7, 4.2, 5.9])\n",
        "\n",
        "# Creating a NumPy array with strings\n",
        "arr_str = np.array(['apple', 'banana', 'orange'])\n",
        "\n",
        "# Checking data types of arrays\n",
        "print(\"Data Type of arr_int:\", arr_int.dtype)\n",
        "print(\"Data Type of arr_float:\", arr_float.dtype)\n",
        "print(\"Data Type of arr_str:\", arr_str.dtype)\n"
      ],
      "metadata": {
        "colab": {
          "base_uri": "https://localhost:8080/"
        },
        "id": "kj-m-aNPTA0V",
        "outputId": "48f906f8-cada-4b61-908b-ad7ca4f9162a"
      },
      "execution_count": null,
      "outputs": [
        {
          "output_type": "stream",
          "name": "stdout",
          "text": [
            "Data Type of arr_int: int64\n",
            "Data Type of arr_float: float64\n",
            "Data Type of arr_str: <U6\n"
          ]
        }
      ]
    },
    {
      "cell_type": "markdown",
      "source": [
        "Multidimensional Arrays: Creating Multidimensional Arrays"
      ],
      "metadata": {
        "id": "m689AwkulBwD"
      }
    },
    {
      "cell_type": "code",
      "source": [
        "import numpy as np\n",
        "\n",
        "# Creating a 2D array (matrix)\n",
        "matrix = np.array([[1, 2, 3],\n",
        "                   [4, 5, 6],\n",
        "                   [7, 8, 9]])\n",
        "\n",
        "# Creating a 3D array\n",
        "array_3d = np.array([[[1, 2, 3],\n",
        "                      [4, 5, 6]],\n",
        "                     [[7, 8, 9],\n",
        "                      [10, 11, 12]]])\n"
      ],
      "metadata": {
        "id": "Y5q9HQxoULWX"
      },
      "execution_count": null,
      "outputs": []
    },
    {
      "cell_type": "markdown",
      "source": [
        "Accessing Elements in Multidimensional Arrays"
      ],
      "metadata": {
        "id": "3EQxf5EntT1U"
      }
    },
    {
      "cell_type": "code",
      "source": [
        "# Accessing elements in a 2D array\n",
        "print(matrix[0, 0])  # Accessing element at row 0, column 0\n",
        "print(matrix[1, 2])  # Accessing element at row 1, column 2\n",
        "\n",
        "# Accessing elements in a 3D array\n",
        "print(array_3d[0, 1, 2])  # Accessing element at first matrix, second row, third column\n",
        "print(array_3d[1, 0, 1])  # Accessing element at second matrix, first row, second column\n"
      ],
      "metadata": {
        "colab": {
          "base_uri": "https://localhost:8080/"
        },
        "id": "cdOXdWH2UfFm",
        "outputId": "10a8e8c9-7ed6-4265-8e00-b6327a65ad4d"
      },
      "execution_count": null,
      "outputs": [
        {
          "output_type": "stream",
          "name": "stdout",
          "text": [
            "1\n",
            "6\n",
            "6\n",
            "8\n"
          ]
        }
      ]
    },
    {
      "cell_type": "markdown",
      "source": [
        "Performing Operations on Multidimensional Arrays"
      ],
      "metadata": {
        "id": "kDBwjmZWlHF6"
      }
    },
    {
      "cell_type": "code",
      "source": [
        "# Sum along rows and columns of a 2D array\n",
        "row_sum = np.sum(matrix, axis=1)  # Sum along rows\n",
        "col_sum = np.sum(matrix, axis=0)  # Sum along columns\n",
        "\n",
        "print(\"Row Sum:\", row_sum)\n",
        "print(\"Column Sum:\", col_sum)\n",
        "\n",
        "# Element-wise multiplication of two 2D arrays\n",
        "array1 = np.array([[1, 2],\n",
        "                   [3, 4]])\n",
        "array2 = np.array([[5, 6],\n",
        "                   [7, 8]])\n",
        "\n",
        "result = array1 * array2\n",
        "print(\"Element-wise Multiplication Result:\")\n",
        "print(result)\n"
      ],
      "metadata": {
        "colab": {
          "base_uri": "https://localhost:8080/"
        },
        "id": "qQmKp3iWUuVm",
        "outputId": "959d2a2f-9b6d-4328-e729-bcce79501133"
      },
      "execution_count": null,
      "outputs": [
        {
          "output_type": "stream",
          "name": "stdout",
          "text": [
            "Row Sum: [ 6 15 24]\n",
            "Column Sum: [12 15 18]\n",
            "Element-wise Multiplication Result:\n",
            "[[ 5 12]\n",
            " [21 32]]\n"
          ]
        }
      ]
    },
    {
      "cell_type": "markdown",
      "source": [
        "Broadcasting"
      ],
      "metadata": {
        "id": "qNfY_8vblnHj"
      }
    },
    {
      "cell_type": "code",
      "source": [
        "import numpy as np\n",
        "\n",
        "# Define a 1-dimensional array\n",
        "arr1 = np.array([1, 2, 3])\n",
        "scalar = 10\n",
        "\n",
        "# Add scalar value to the array using broadcasting\n",
        "result = arr1 + scalar\n",
        "\n",
        "print(result)  # Output: [11 12 13]\n"
      ],
      "metadata": {
        "id": "OjvufPrplqR9",
        "outputId": "337b70ec-488c-4c1c-e78c-eeeac3900da6",
        "colab": {
          "base_uri": "https://localhost:8080/"
        }
      },
      "execution_count": null,
      "outputs": [
        {
          "output_type": "stream",
          "name": "stdout",
          "text": [
            "[11 12 13]\n"
          ]
        }
      ]
    },
    {
      "cell_type": "code",
      "source": [
        "import numpy as np\n",
        "\n",
        "# Creating a 1D array\n",
        "array1 = np.array([1, 2, 3])\n",
        "\n",
        "# Creating a scalar value\n",
        "scalar = 2\n",
        "\n",
        "# Performing element-wise addition between array and scalar\n",
        "result = array1 + scalar\n",
        "\n",
        "print(\"Array + Scalar:\")\n",
        "print(result)\n"
      ],
      "metadata": {
        "colab": {
          "base_uri": "https://localhost:8080/"
        },
        "id": "Pevbi_q0VO6H",
        "outputId": "b97ac1da-4fa6-4671-aaed-baac8024fe22"
      },
      "execution_count": null,
      "outputs": [
        {
          "output_type": "stream",
          "name": "stdout",
          "text": [
            "Array + Scalar:\n",
            "[3 4 5]\n"
          ]
        }
      ]
    },
    {
      "cell_type": "markdown",
      "source": [
        "Creating NumPy Arrays"
      ],
      "metadata": {
        "id": "7KRJQ05Fttwk"
      }
    },
    {
      "cell_type": "code",
      "source": [
        "import numpy as np\n",
        "\n",
        "# Creating a NumPy array from a Python list\n",
        "my_list = [1, 2, 3, 4, 5]\n",
        "my_array = np.array(my_list)\n",
        "\n",
        "print(\"NumPy Array from Python List:\")\n",
        "print(my_array)\n",
        "\n",
        "# Creating a NumPy array from a Python tuple\n",
        "my_tuple = (6, 7, 8, 9, 10)\n",
        "my_array_from_tuple = np.array(my_tuple)\n",
        "\n",
        "print(\"\\nNumPy Array from Python Tuple:\")\n",
        "print(my_array_from_tuple)\n"
      ],
      "metadata": {
        "colab": {
          "base_uri": "https://localhost:8080/"
        },
        "id": "lWu4L6jqVpG4",
        "outputId": "9aa6d214-9f04-4116-82f0-e3292164f247"
      },
      "execution_count": null,
      "outputs": [
        {
          "output_type": "stream",
          "name": "stdout",
          "text": [
            "NumPy Array from Python List:\n",
            "[1 2 3 4 5]\n",
            "\n",
            "NumPy Array from Python Tuple:\n",
            "[ 6  7  8  9 10]\n"
          ]
        }
      ]
    },
    {
      "cell_type": "markdown",
      "source": [
        "Special Arrays"
      ],
      "metadata": {
        "id": "BXLnEaost56G"
      }
    },
    {
      "cell_type": "code",
      "source": [
        "import numpy as np\n",
        "\n",
        "# Creating an array of zeros\n",
        "zeros_array = np.zeros((3, 4))  # Create a 3x4 array filled with zeros\n",
        "print(\"Array of Zeros:\")\n",
        "print(zeros_array)\n",
        "\n",
        "# Creating an array of ones\n",
        "ones_array = np.ones((2, 3))  # Create a 2x3 array filled with ones\n",
        "print(\"\\nArray of Ones:\")\n",
        "print(ones_array)\n",
        "\n",
        "# Creating an array with a specific fill value\n",
        "full_array = np.full((2, 2), 7)  # Create a 2x2 array filled with the value 7\n",
        "print(\"\\nArray with Specific Fill Value:\")\n",
        "print(full_array)\n",
        "\n",
        "# Creating an empty array (uninitialized, content may vary)\n",
        "empty_array = np.empty((2, 2))  # Create a 2x2 empty array\n",
        "print(\"\\nEmpty Array:\")\n",
        "print(empty_array)\n",
        "\n",
        "# Creating a sequence of numbers\n",
        "sequence_array = np.arange(0, 10, 2)  # Create an array with values from 0 to 10 (exclusive) with a step of 2\n",
        "print(\"\\nSequence Array:\")\n",
        "print(sequence_array)\n",
        "\n",
        "# Creating a sequence of numbers with a specified number of elements\n",
        "linspace_array = np.linspace(0, 1, 5)  # Create an array with 5 evenly spaced values from 0 to 1\n",
        "print(\"\\nLinspace Array:\")\n",
        "print(linspace_array)\n"
      ],
      "metadata": {
        "colab": {
          "base_uri": "https://localhost:8080/"
        },
        "id": "ycVYVTI8WZ44",
        "outputId": "704bdbde-3406-4259-e8d5-e37b757b2e54"
      },
      "execution_count": null,
      "outputs": [
        {
          "output_type": "stream",
          "name": "stdout",
          "text": [
            "Array of Zeros:\n",
            "[[0. 0. 0. 0.]\n",
            " [0. 0. 0. 0.]\n",
            " [0. 0. 0. 0.]]\n",
            "\n",
            "Array of Ones:\n",
            "[[1. 1. 1.]\n",
            " [1. 1. 1.]]\n",
            "\n",
            "Array with Specific Fill Value:\n",
            "[[7 7]\n",
            " [7 7]]\n",
            "\n",
            "Empty Array:\n",
            "[[2.47e-323 5.93e-323]\n",
            " [1.04e-322 1.58e-322]]\n",
            "\n",
            "Sequence Array:\n",
            "[0 2 4 6 8]\n",
            "\n",
            "Linspace Array:\n",
            "[0.   0.25 0.5  0.75 1.  ]\n"
          ]
        }
      ]
    },
    {
      "cell_type": "markdown",
      "source": [
        "•\tArange and Linspace"
      ],
      "metadata": {
        "id": "Pbj1uJ_auBmT"
      }
    },
    {
      "cell_type": "code",
      "source": [
        "import numpy as np\n",
        "\n",
        "# Using np.arange() to create an array with values from 0 to 9 (exclusive) with a step size of 2\n",
        "arr_arange = np.arange(0, 10, 2)\n",
        "print(\"Array created using np.arange():\")\n",
        "print(arr_arange)\n"
      ],
      "metadata": {
        "colab": {
          "base_uri": "https://localhost:8080/"
        },
        "id": "hUZM0vgRW8OQ",
        "outputId": "7f7119d0-a6b9-4a1d-9b03-bbd46c8bf13a"
      },
      "execution_count": null,
      "outputs": [
        {
          "output_type": "stream",
          "name": "stdout",
          "text": [
            "Array created using np.arange():\n",
            "[0 2 4 6 8]\n"
          ]
        }
      ]
    },
    {
      "cell_type": "code",
      "source": [
        "import numpy as np\n",
        "\n",
        "# Using np.linspace() to create an array with 5 evenly spaced values from 0 to 1\n",
        "arr_linspace = np.linspace(0, 1, 5)\n",
        "print(\"Array created using np.linspace():\")\n",
        "print(arr_linspace)\n"
      ],
      "metadata": {
        "colab": {
          "base_uri": "https://localhost:8080/"
        },
        "id": "MIm-Pl3QXZIK",
        "outputId": "27e2b9dc-44a9-4298-a723-997b9dad8b07"
      },
      "execution_count": null,
      "outputs": [
        {
          "output_type": "stream",
          "name": "stdout",
          "text": [
            "Array created using np.linspace():\n",
            "[0.   0.25 0.5  0.75 1.  ]\n"
          ]
        }
      ]
    },
    {
      "cell_type": "markdown",
      "source": [
        "# NUMPY ARRAY MANIPULATION"
      ],
      "metadata": {
        "id": "pCaasnhqGHqG"
      }
    },
    {
      "cell_type": "code",
      "source": [
        "import numpy as np\n",
        "\n",
        "# Creating a NumPy array\n",
        "original_array = np.array([1, 2, 3, 4, 5, 6])\n",
        "\n",
        "# Reshaping the array to a 2x3 matrix\n",
        "reshaped_array = original_array.reshape(2, 3)\n",
        "\n",
        "print(\"Original Array:\")\n",
        "print(original_array)\n",
        "\n",
        "print(\"\\nReshaped Array:\")\n",
        "print(reshaped_array)\n"
      ],
      "metadata": {
        "colab": {
          "base_uri": "https://localhost:8080/"
        },
        "id": "1pqgaAq9YDms",
        "outputId": "87cdd814-d4d1-487f-e434-550b09856253"
      },
      "execution_count": null,
      "outputs": [
        {
          "output_type": "stream",
          "name": "stdout",
          "text": [
            "Original Array:\n",
            "[1 2 3 4 5 6]\n",
            "\n",
            "Reshaped Array:\n",
            "[[1 2 3]\n",
            " [4 5 6]]\n"
          ]
        }
      ]
    },
    {
      "cell_type": "markdown",
      "source": [
        "flattenned array"
      ],
      "metadata": {
        "id": "TvcYBbVBGf9q"
      }
    },
    {
      "cell_type": "code",
      "source": [
        "import numpy as np\n",
        "\n",
        "# Creating a 2D array\n",
        "original_array = np.array([[1, 2, 3],\n",
        "                           [4, 5, 6]])\n",
        "\n",
        "# Flattening the array\n",
        "flattened_array = original_array.flatten()\n",
        "\n",
        "print(\"Original Array:\")\n",
        "print(original_array)\n",
        "\n",
        "print(\"\\nFlattened Array:\")\n",
        "print(flattened_array)\n"
      ],
      "metadata": {
        "colab": {
          "base_uri": "https://localhost:8080/"
        },
        "id": "BO1dPx7EZFLT",
        "outputId": "db73f008-404f-487c-e001-09b3b64d240b"
      },
      "execution_count": null,
      "outputs": [
        {
          "output_type": "stream",
          "name": "stdout",
          "text": [
            "Original Array:\n",
            "[[1 2 3]\n",
            " [4 5 6]]\n",
            "\n",
            "Flattened Array:\n",
            "[1 2 3 4 5 6]\n"
          ]
        }
      ]
    },
    {
      "cell_type": "markdown",
      "source": [
        "concatenating arrays"
      ],
      "metadata": {
        "id": "y9WghrQSGt_8"
      }
    },
    {
      "cell_type": "code",
      "source": [
        "import numpy as np\n",
        "\n",
        "# Creating two arrays to concatenate\n",
        "array1 = np.array([[1, 2, 3],\n",
        "                   [4, 5, 6]])\n",
        "array2 = np.array([[7, 8, 9],\n",
        "                   [10, 11, 12]])\n",
        "\n",
        "# Concatenating arrays along axis 0 (rows)\n",
        "concatenated_array_axis0 = np.concatenate((array1, array2), axis=0)\n",
        "\n",
        "# Concatenating arrays along axis 1 (columns)\n",
        "concatenated_array_axis1 = np.concatenate((array1, array2), axis=1)\n",
        "\n",
        "print(\"Concatenated Array along axis 0 (rows):\")\n",
        "print(concatenated_array_axis0)\n",
        "\n",
        "print(\"\\nConcatenated Array along axis 1 (columns):\")\n",
        "print(concatenated_array_axis1)\n"
      ],
      "metadata": {
        "colab": {
          "base_uri": "https://localhost:8080/"
        },
        "id": "-K_6iZ7kZmvD",
        "outputId": "6e01e697-6346-4416-9cfd-842811e54b15"
      },
      "execution_count": null,
      "outputs": [
        {
          "output_type": "stream",
          "name": "stdout",
          "text": [
            "Concatenated Array along axis 0 (rows):\n",
            "[[ 1  2  3]\n",
            " [ 4  5  6]\n",
            " [ 7  8  9]\n",
            " [10 11 12]]\n",
            "\n",
            "Concatenated Array along axis 1 (columns):\n",
            "[[ 1  2  3  7  8  9]\n",
            " [ 4  5  6 10 11 12]]\n"
          ]
        }
      ]
    },
    {
      "cell_type": "markdown",
      "source": [
        "stacking arrays"
      ],
      "metadata": {
        "id": "sq1ohUgJHYTZ"
      }
    },
    {
      "cell_type": "code",
      "source": [
        "import numpy as np\n",
        "\n",
        "# Creating two arrays to stack\n",
        "array1 = np.array([[1, 2],\n",
        "                   [3, 4]])\n",
        "array2 = np.array([[5, 6],\n",
        "                   [7, 8]])\n",
        "\n",
        "# Vertically stacking arrays\n",
        "stacked_vertically = np.vstack((array1, array2))\n",
        "\n",
        "# Horizontally stacking arrays\n",
        "stacked_horizontally = np.hstack((array1, array2))\n",
        "\n",
        "print(\"Vertically Stacked Array:\")\n",
        "print(stacked_vertically)\n",
        "\n",
        "print(\"\\nHorizontally Stacked Array:\")\n",
        "print(stacked_horizontally)\n"
      ],
      "metadata": {
        "colab": {
          "base_uri": "https://localhost:8080/"
        },
        "id": "Plnc6w37aF3D",
        "outputId": "da88702f-49f8-4fb6-b334-7cce28db2727"
      },
      "execution_count": null,
      "outputs": [
        {
          "output_type": "stream",
          "name": "stdout",
          "text": [
            "Vertically Stacked Array:\n",
            "[[1 2]\n",
            " [3 4]\n",
            " [5 6]\n",
            " [7 8]]\n",
            "\n",
            "Horizontally Stacked Array:\n",
            "[[1 2 5 6]\n",
            " [3 4 7 8]]\n"
          ]
        }
      ]
    },
    {
      "cell_type": "markdown",
      "source": [
        "# MATRIX IN NUMPY"
      ],
      "metadata": {
        "id": "5zVjrOgzHkkb"
      }
    },
    {
      "cell_type": "code",
      "source": [
        "import numpy as np\n",
        "\n",
        "# Creating a 2x3 matrix using np.array()\n",
        "matrix = np.array([[1, 2, 3],\n",
        "                   [4, 5, 6]])\n",
        "\n",
        "print(\"Matrix:\")\n",
        "print(matrix)\n"
      ],
      "metadata": {
        "colab": {
          "base_uri": "https://localhost:8080/"
        },
        "id": "KUUt4-grarh-",
        "outputId": "fbff6589-d2c0-4524-ed67-784881981fca"
      },
      "execution_count": null,
      "outputs": [
        {
          "output_type": "stream",
          "name": "stdout",
          "text": [
            "Matrix:\n",
            "[[1 2 3]\n",
            " [4 5 6]]\n"
          ]
        }
      ]
    },
    {
      "cell_type": "markdown",
      "source": [
        "types of matrices"
      ],
      "metadata": {
        "id": "TSbIJhQ8HvTl"
      }
    },
    {
      "cell_type": "code",
      "source": [
        "import numpy as np\n",
        "\n",
        "# Creating a 3x3 matrix filled with zeros\n",
        "zeros_matrix = np.zeros((3, 3))\n",
        "print(\"Zeros Matrix:\")\n",
        "print(zeros_matrix)\n",
        "\n",
        "# Creating a 2x2 matrix filled with ones\n",
        "ones_matrix = np.ones((2, 2))\n",
        "print(\"\\nOnes Matrix:\")\n",
        "print(ones_matrix)\n",
        "\n",
        "# Creating a 4x4 identity matrix\n",
        "identity_matrix = np.eye(4)\n",
        "print(\"\\nIdentity Matrix:\")\n",
        "print(identity_matrix)\n",
        "\n",
        "# Creating a 3x2 matrix with random values\n",
        "random_matrix = np.random.rand(3, 2)\n",
        "print(\"\\nRandom Matrix:\")\n",
        "print(random_matrix)\n"
      ],
      "metadata": {
        "colab": {
          "base_uri": "https://localhost:8080/"
        },
        "id": "gLZ-APJJa4wU",
        "outputId": "827ba736-3948-4a6b-cc77-136be4a11e26"
      },
      "execution_count": null,
      "outputs": [
        {
          "output_type": "stream",
          "name": "stdout",
          "text": [
            "Zeros Matrix:\n",
            "[[0. 0. 0.]\n",
            " [0. 0. 0.]\n",
            " [0. 0. 0.]]\n",
            "\n",
            "Ones Matrix:\n",
            "[[1. 1.]\n",
            " [1. 1.]]\n",
            "\n",
            "Identity Matrix:\n",
            "[[1. 0. 0. 0.]\n",
            " [0. 1. 0. 0.]\n",
            " [0. 0. 1. 0.]\n",
            " [0. 0. 0. 1.]]\n",
            "\n",
            "Random Matrix:\n",
            "[[0.69882668 0.06364985]\n",
            " [0.55687113 0.06546818]\n",
            " [0.8881213  0.7205363 ]]\n"
          ]
        }
      ]
    },
    {
      "cell_type": "markdown",
      "source": [
        "matrix attributes\n",
        "shape"
      ],
      "metadata": {
        "id": "uGM4-resIB5g"
      }
    },
    {
      "cell_type": "code",
      "source": [
        "import numpy as np\n",
        "\n",
        "# Creating a matrix\n",
        "matrix = np.array([[1, 2, 3],\n",
        "                   [4, 5, 6]])\n",
        "\n",
        "# Getting the shape of the matrix\n",
        "matrix_shape = matrix.shape\n",
        "\n",
        "print(\"Matrix Shape:\", matrix_shape)\n"
      ],
      "metadata": {
        "colab": {
          "base_uri": "https://localhost:8080/"
        },
        "id": "e8or2Bavbe29",
        "outputId": "b5b09503-3aef-498b-e4a2-f5fae2e87cf0"
      },
      "execution_count": null,
      "outputs": [
        {
          "output_type": "stream",
          "name": "stdout",
          "text": [
            "Matrix Shape: (2, 3)\n"
          ]
        }
      ]
    },
    {
      "cell_type": "markdown",
      "source": [
        "transpose"
      ],
      "metadata": {
        "id": "VLoEfVj1ILt6"
      }
    },
    {
      "cell_type": "code",
      "source": [
        "import numpy as np\n",
        "\n",
        "# Creating a matrix\n",
        "matrix = np.array([[1, 2, 3],\n",
        "                   [4, 5, 6]])\n",
        "\n",
        "# Getting the transpose of the matrix\n",
        "matrix_transpose = matrix.T\n",
        "\n",
        "print(\"Original Matrix:\")\n",
        "print(matrix)\n",
        "\n",
        "print(\"\\nTranspose of the Matrix:\")\n",
        "print(matrix_transpose)\n"
      ],
      "metadata": {
        "colab": {
          "base_uri": "https://localhost:8080/"
        },
        "id": "5eZrouQjbsD2",
        "outputId": "1d37a305-9c4b-428f-a78d-87c44330453a"
      },
      "execution_count": null,
      "outputs": [
        {
          "output_type": "stream",
          "name": "stdout",
          "text": [
            "Original Matrix:\n",
            "[[1 2 3]\n",
            " [4 5 6]]\n",
            "\n",
            "Transpose of the Matrix:\n",
            "[[1 4]\n",
            " [2 5]\n",
            " [3 6]]\n"
          ]
        }
      ]
    },
    {
      "cell_type": "markdown",
      "source": [
        "matrix multiplication"
      ],
      "metadata": {
        "id": "xVsqKuftISjk"
      }
    },
    {
      "cell_type": "code",
      "source": [
        "import numpy as np\n",
        "\n",
        "# Creating two matrices\n",
        "matrix1 = np.array([[1, 2, 3],\n",
        "                    [4, 5, 6]])\n",
        "matrix2 = np.array([[7, 8],\n",
        "                    [9, 10],\n",
        "                    [11, 12]])\n",
        "\n",
        "# Performing matrix multiplication using np.dot()\n",
        "result_matrix = np.dot(matrix1, matrix2)\n",
        "\n",
        "print(\"Matrix 1:\")\n",
        "print(matrix1)\n",
        "\n",
        "print(\"\\nMatrix 2:\")\n",
        "print(matrix2)\n",
        "\n",
        "print(\"\\nResult of Matrix Multiplication:\")\n",
        "print(result_matrix)\n"
      ],
      "metadata": {
        "colab": {
          "base_uri": "https://localhost:8080/"
        },
        "id": "8b2Fo57fcLE2",
        "outputId": "7972d2fb-8703-4884-a9f9-713a5632dcb4"
      },
      "execution_count": null,
      "outputs": [
        {
          "output_type": "stream",
          "name": "stdout",
          "text": [
            "Matrix 1:\n",
            "[[1 2 3]\n",
            " [4 5 6]]\n",
            "\n",
            "Matrix 2:\n",
            "[[ 7  8]\n",
            " [ 9 10]\n",
            " [11 12]]\n",
            "\n",
            "Result of Matrix Multiplication:\n",
            "[[ 58  64]\n",
            " [139 154]]\n"
          ]
        }
      ]
    },
    {
      "cell_type": "markdown",
      "source": [
        "matrix multiplication with np.dot()"
      ],
      "metadata": {
        "id": "b5smo8fSIobw"
      }
    },
    {
      "cell_type": "code",
      "source": [
        "import numpy as np\n",
        "\n",
        "# Creating two matrices\n",
        "matrix1 = np.array([[1, 2, 3],\n",
        "                    [4, 5, 6]])\n",
        "matrix2 = np.array([[7, 8],\n",
        "                    [9, 10],\n",
        "                    [11, 12]])\n",
        "\n",
        "# Performing matrix multiplication using np.dot()\n",
        "result_matrix = np.dot(matrix1, matrix2)\n",
        "\n",
        "print(\"Matrix 1:\")\n",
        "print(matrix1)\n",
        "\n",
        "print(\"\\nMatrix 2:\")\n",
        "print(matrix2)\n",
        "\n",
        "print(\"\\nResult of Matrix Multiplication:\")\n",
        "print(result_matrix)\n"
      ],
      "metadata": {
        "colab": {
          "base_uri": "https://localhost:8080/"
        },
        "id": "hRS0PXWZcxug",
        "outputId": "d8a5d47e-0a61-42c9-9900-2e78f9e53ae5"
      },
      "execution_count": null,
      "outputs": [
        {
          "output_type": "stream",
          "name": "stdout",
          "text": [
            "Matrix 1:\n",
            "[[1 2 3]\n",
            " [4 5 6]]\n",
            "\n",
            "Matrix 2:\n",
            "[[ 7  8]\n",
            " [ 9 10]\n",
            " [11 12]]\n",
            "\n",
            "Result of Matrix Multiplication:\n",
            "[[ 58  64]\n",
            " [139 154]]\n"
          ]
        }
      ]
    },
    {
      "cell_type": "markdown",
      "source": [
        "# OPERATIONS ON NUMPY ARRAYS"
      ],
      "metadata": {
        "id": "7eKKFbJpIz0M"
      }
    },
    {
      "cell_type": "code",
      "source": [
        "import numpy as np\n",
        "\n",
        "# Creating two arrays\n",
        "array1 = np.array([1, 2, 3, 4])\n",
        "array2 = np.array([5, 6, 7, 8])\n",
        "\n",
        "# Addition\n",
        "addition_result = np.add(array1, array2)\n",
        "\n",
        "# Subtraction\n",
        "subtraction_result = np.subtract(array1, array2)\n",
        "\n",
        "# Multiplication\n",
        "multiplication_result = np.multiply(array1, array2)\n",
        "\n",
        "# Division\n",
        "division_result = np.divide(array1, array2)\n",
        "\n",
        "# Exponentiation\n",
        "exponentiation_result = np.power(array1, array2)\n",
        "\n",
        "print(\"Array 1:\", array1)\n",
        "print(\"Array 2:\", array2)\n",
        "print(\"Addition Result:\", addition_result)\n",
        "print(\"Subtraction Result:\", subtraction_result)\n",
        "print(\"Multiplication Result:\", multiplication_result)\n",
        "print(\"Division Result:\", division_result)\n",
        "print(\"Exponentiation Result:\", exponentiation_result)\n"
      ],
      "metadata": {
        "colab": {
          "base_uri": "https://localhost:8080/"
        },
        "id": "NYRM9n9meE-C",
        "outputId": "a20e16f6-0d8f-4af9-f1f4-da78a75cfe71"
      },
      "execution_count": null,
      "outputs": [
        {
          "output_type": "stream",
          "name": "stdout",
          "text": [
            "Array 1: [1 2 3 4]\n",
            "Array 2: [5 6 7 8]\n",
            "Addition Result: [ 6  8 10 12]\n",
            "Subtraction Result: [-4 -4 -4 -4]\n",
            "Multiplication Result: [ 5 12 21 32]\n",
            "Division Result: [0.2        0.33333333 0.42857143 0.5       ]\n",
            "Exponentiation Result: [    1    64  2187 65536]\n"
          ]
        }
      ]
    },
    {
      "cell_type": "markdown",
      "source": [
        "basic element wise operations"
      ],
      "metadata": {
        "id": "EwIac7ieJE-y"
      }
    },
    {
      "cell_type": "code",
      "source": [
        "import numpy as np\n",
        "\n",
        "# Creating an array\n",
        "array = np.array([1, 2, 3, 4, 5])\n",
        "\n",
        "# Adding a scalar value to each element\n",
        "addition_result = array + 10\n",
        "\n",
        "# Subtracting a scalar value from each element\n",
        "subtraction_result = array - 2\n",
        "\n",
        "# Multiplying each element by a scalar value\n",
        "multiplication_result = array * 3\n",
        "\n",
        "# Dividing each element by a scalar value\n",
        "division_result = array / 2\n",
        "\n",
        "# Computing the square of each element\n",
        "square_result = array ** 2\n",
        "\n",
        "print(\"Original Array:\", array)\n",
        "print(\"Addition Result:\", addition_result)\n",
        "print(\"Subtraction Result:\", subtraction_result)\n",
        "print(\"Multiplication Result:\", multiplication_result)\n",
        "print(\"Division Result:\", division_result)\n",
        "print(\"Square Result:\", square_result)\n"
      ],
      "metadata": {
        "colab": {
          "base_uri": "https://localhost:8080/"
        },
        "id": "X7tcft7gfMxB",
        "outputId": "f6ce09ba-34eb-4f57-b931-25ca4d6cb497"
      },
      "execution_count": null,
      "outputs": [
        {
          "output_type": "stream",
          "name": "stdout",
          "text": [
            "Original Array: [1 2 3 4 5]\n",
            "Addition Result: [11 12 13 14 15]\n",
            "Subtraction Result: [-1  0  1  2  3]\n",
            "Multiplication Result: [ 3  6  9 12 15]\n",
            "Division Result: [0.5 1.  1.5 2.  2.5]\n",
            "Square Result: [ 1  4  9 16 25]\n"
          ]
        }
      ]
    },
    {
      "cell_type": "markdown",
      "source": [
        "element wise functions in numpy"
      ],
      "metadata": {
        "id": "1mT19rM5JUgS"
      }
    },
    {
      "cell_type": "code",
      "source": [
        "import numpy as np\n",
        "\n",
        "# Creating an array\n",
        "array = np.array([1, 2, 3, 4, 5])\n",
        "\n",
        "# Square root of each element\n",
        "sqrt_result = np.sqrt(array)\n",
        "\n",
        "# Exponential function applied to each element\n",
        "exp_result = np.exp(array)\n",
        "\n",
        "# Trigonometric sine function applied to each element\n",
        "sin_result = np.sin(array)\n",
        "\n",
        "# Natural logarithm applied to each element\n",
        "log_result = np.log(array)\n",
        "\n",
        "print(\"Original Array:\", array)\n",
        "print(\"Square Root Result:\", sqrt_result)\n",
        "print(\"Exponential Result:\", exp_result)\n",
        "print(\"Sine Result:\", sin_result)\n",
        "print(\"Logarithm Result:\", log_result)\n"
      ],
      "metadata": {
        "colab": {
          "base_uri": "https://localhost:8080/"
        },
        "id": "R2txkuo6f1x-",
        "outputId": "2a47b68a-d941-4b61-8030-956f8d3293c4"
      },
      "execution_count": null,
      "outputs": [
        {
          "output_type": "stream",
          "name": "stdout",
          "text": [
            "Original Array: [1 2 3 4 5]\n",
            "Square Root Result: [1.         1.41421356 1.73205081 2.         2.23606798]\n",
            "Exponential Result: [  2.71828183   7.3890561   20.08553692  54.59815003 148.4131591 ]\n",
            "Sine Result: [ 0.84147098  0.90929743  0.14112001 -0.7568025  -0.95892427]\n",
            "Logarithm Result: [0.         0.69314718 1.09861229 1.38629436 1.60943791]\n"
          ]
        }
      ]
    },
    {
      "cell_type": "markdown",
      "source": [
        "broadcasting in numpy"
      ],
      "metadata": {
        "id": "r_0uaSv2JgQT"
      }
    },
    {
      "cell_type": "code",
      "source": [
        "import numpy as np\n",
        "\n",
        "# Creating arrays with different shapes\n",
        "array1 = np.array([[1, 2, 3],\n",
        "                   [4, 5, 6]])\n",
        "scalar = 10\n",
        "\n",
        "# Performing addition with broadcasting\n",
        "result = array1 + scalar\n",
        "\n",
        "print(\"Array 1:\")\n",
        "print(array1)\n",
        "\n",
        "print(\"\\nScalar Value:\", scalar)\n",
        "\n",
        "print(\"\\nResult of Broadcasting:\")\n",
        "print(result)\n"
      ],
      "metadata": {
        "colab": {
          "base_uri": "https://localhost:8080/"
        },
        "id": "r7hypUMQgRsr",
        "outputId": "9e462ff1-1389-46a1-c40c-fcddbb26c722"
      },
      "execution_count": null,
      "outputs": [
        {
          "output_type": "stream",
          "name": "stdout",
          "text": [
            "Array 1:\n",
            "[[1 2 3]\n",
            " [4 5 6]]\n",
            "\n",
            "Scalar Value: 10\n",
            "\n",
            "Result of Broadcasting:\n",
            "[[11 12 13]\n",
            " [14 15 16]]\n"
          ]
        }
      ]
    },
    {
      "cell_type": "markdown",
      "source": [
        "broadcasting with different dimensions"
      ],
      "metadata": {
        "id": "psclS26HJpmj"
      }
    },
    {
      "cell_type": "code",
      "source": [
        "import numpy as np\n",
        "\n",
        "# Creating arrays with different shapes\n",
        "array1 = np.array([[1, 2, 3],\n",
        "                   [4, 5, 6]])\n",
        "array2 = np.array([10, 20, 30])\n",
        "\n",
        "# Performing addition with broadcasting\n",
        "result = array1 + array2\n",
        "\n",
        "print(\"Array 1:\")\n",
        "print(array1)\n",
        "\n",
        "print(\"\\nArray 2:\")\n",
        "print(array2)\n",
        "\n",
        "print(\"\\nResult of Broadcasting:\")\n",
        "print(result)\n"
      ],
      "metadata": {
        "colab": {
          "base_uri": "https://localhost:8080/"
        },
        "id": "FcZcJZaYgv-l",
        "outputId": "d2b8a1f8-2010-4989-b885-8a08027a923c"
      },
      "execution_count": null,
      "outputs": [
        {
          "output_type": "stream",
          "name": "stdout",
          "text": [
            "Array 1:\n",
            "[[1 2 3]\n",
            " [4 5 6]]\n",
            "\n",
            "Array 2:\n",
            "[10 20 30]\n",
            "\n",
            "Result of Broadcasting:\n",
            "[[11 22 33]\n",
            " [14 25 36]]\n"
          ]
        }
      ]
    },
    {
      "cell_type": "code",
      "source": [
        "import numpy as np\n",
        "\n",
        "# Creating a NumPy array\n",
        "array = np.array([1, 2, 3, 4, 5])\n",
        "\n",
        "# Accessing individual elements using basic indexing\n",
        "print(\"First Element:\", array[0])\n",
        "print(\"Last Element:\", array[-1])\n",
        "\n",
        "# Slicing to access a subset of elements\n",
        "print(\"Sliced Array:\", array[1:4])  # Elements from index 1 to 3 (exclusive)\n",
        "\n",
        "# Modifying array elements using indexing\n",
        "array[2] = 10\n",
        "print(\"Modified Array:\", array)\n"
      ],
      "metadata": {
        "colab": {
          "base_uri": "https://localhost:8080/"
        },
        "id": "yOpBhn8XhQg6",
        "outputId": "aa22522c-1305-4f07-ac04-4c604db6b747"
      },
      "execution_count": null,
      "outputs": [
        {
          "output_type": "stream",
          "name": "stdout",
          "text": [
            "First Element: 1\n",
            "Last Element: 5\n",
            "Sliced Array: [2 3 4]\n",
            "Modified Array: [ 1  2 10  4  5]\n"
          ]
        }
      ]
    },
    {
      "cell_type": "code",
      "source": [
        "import numpy as np\n",
        "\n",
        "# Creating a NumPy array\n",
        "array = np.array([1, 2, 3, 4, 5])\n",
        "\n",
        "# Generating a boolean mask based on a condition\n",
        "mask = array > 3\n",
        "\n",
        "# Using the boolean mask to select elements from the array\n",
        "selected_elements = array[mask]\n",
        "\n",
        "print(\"Original Array:\", array)\n",
        "print(\"Boolean Mask:\", mask)\n",
        "print(\"Selected Elements:\", selected_elements)\n"
      ],
      "metadata": {
        "colab": {
          "base_uri": "https://localhost:8080/"
        },
        "id": "bOcWpLsZht0L",
        "outputId": "418e56c0-dc86-4563-cf11-b8666c8a4dd7"
      },
      "execution_count": null,
      "outputs": [
        {
          "output_type": "stream",
          "name": "stdout",
          "text": [
            "Original Array: [1 2 3 4 5]\n",
            "Boolean Mask: [False False False  True  True]\n",
            "Selected Elements: [4 5]\n"
          ]
        }
      ]
    },
    {
      "cell_type": "code",
      "source": [
        "import numpy as np\n",
        "\n",
        "# Creating a 2D NumPy array\n",
        "array = np.array([[1, 2, 3],\n",
        "                  [4, 5, 6],\n",
        "                  [7, 8, 9]])\n",
        "\n",
        "# Slicing along rows and columns\n",
        "row_slice = array[0:2, :]  # Selecting rows 0 and 1, and all columns\n",
        "col_slice = array[:, 1:3]   # Selecting all rows, and columns 1 and 2\n",
        "\n",
        "print(\"Original Array:\")\n",
        "print(array)\n",
        "\n",
        "print(\"\\nRow Slice:\")\n",
        "print(row_slice)\n",
        "\n",
        "print(\"\\nColumn Slice:\")\n",
        "print(col_slice)\n"
      ],
      "metadata": {
        "colab": {
          "base_uri": "https://localhost:8080/"
        },
        "id": "BZzcUZnxiKl7",
        "outputId": "9277ad27-cec7-4680-fd5d-3ad59d9be9d1"
      },
      "execution_count": null,
      "outputs": [
        {
          "output_type": "stream",
          "name": "stdout",
          "text": [
            "Original Array:\n",
            "[[1 2 3]\n",
            " [4 5 6]\n",
            " [7 8 9]]\n",
            "\n",
            "Row Slice:\n",
            "[[1 2 3]\n",
            " [4 5 6]]\n",
            "\n",
            "Column Slice:\n",
            "[[2 3]\n",
            " [5 6]\n",
            " [8 9]]\n"
          ]
        }
      ]
    },
    {
      "cell_type": "code",
      "source": [
        "import numpy as np\n",
        "\n",
        "# Creating a 2D NumPy array\n",
        "array = np.array([[1, 2, 3],\n",
        "                  [4, 5, 6],\n",
        "                  [7, 8, 9]])\n",
        "\n",
        "# Slicing along different axes\n",
        "row_slice = array[0:2, :]    # Slicing along rows\n",
        "col_slice = array[:, 1:3]    # Slicing along columns\n",
        "element_slice = array[1, 1]  # Slicing a single element\n",
        "subarray_slice = array[1:, :2]  # Slicing a subarray\n",
        "\n",
        "print(\"Original Array:\")\n",
        "print(array)\n",
        "\n",
        "print(\"\\nRow Slice:\")\n",
        "print(row_slice)\n",
        "\n",
        "print(\"\\nColumn Slice:\")\n",
        "print(col_slice)\n",
        "\n",
        "print(\"\\nSingle Element Slice:\")\n",
        "print(element_slice)\n",
        "\n",
        "print(\"\\nSubarray Slice:\")\n",
        "print(subarray_slice)\n"
      ],
      "metadata": {
        "colab": {
          "base_uri": "https://localhost:8080/"
        },
        "id": "HRxc2_EKimR0",
        "outputId": "d7bf9915-52cf-418a-95f3-ff0e6c8c697a"
      },
      "execution_count": null,
      "outputs": [
        {
          "output_type": "stream",
          "name": "stdout",
          "text": [
            "Original Array:\n",
            "[[1 2 3]\n",
            " [4 5 6]\n",
            " [7 8 9]]\n",
            "\n",
            "Row Slice:\n",
            "[[1 2 3]\n",
            " [4 5 6]]\n",
            "\n",
            "Column Slice:\n",
            "[[2 3]\n",
            " [5 6]\n",
            " [8 9]]\n",
            "\n",
            "Single Element Slice:\n",
            "5\n",
            "\n",
            "Subarray Slice:\n",
            "[[4 5]\n",
            " [7 8]]\n"
          ]
        }
      ]
    },
    {
      "cell_type": "code",
      "source": [
        "import numpy as np\n",
        "\n",
        "# Generate a single random number between 0 and 1\n",
        "random_number = np.random.rand()\n",
        "print(\"Random Number:\", random_number)\n",
        "\n",
        "# Generate an array of random numbers with shape (3, 4)\n",
        "random_array = np.random.rand(3, 4)\n",
        "print(\"Random Array:\")\n",
        "print(random_array)\n"
      ],
      "metadata": {
        "colab": {
          "base_uri": "https://localhost:8080/"
        },
        "id": "JEwHvZr9jYn5",
        "outputId": "a2c0999b-2b65-447b-e8ad-81d9053ac22e"
      },
      "execution_count": null,
      "outputs": [
        {
          "output_type": "stream",
          "name": "stdout",
          "text": [
            "Random Number: 0.9129045191041149\n",
            "Random Array:\n",
            "[[0.15910359 0.33658377 0.30680771 0.87054274]\n",
            " [0.17335922 0.97762645 0.51097019 0.57232321]\n",
            " [0.50974844 0.19542195 0.7992713  0.64395945]]\n"
          ]
        }
      ]
    },
    {
      "cell_type": "code",
      "source": [
        "import numpy as np\n",
        "\n",
        "# Generate random numbers from standard normal distribution (mean=0, std=1)\n",
        "normal_distribution = np.random.randn(1000)\n",
        "\n",
        "# Generate random numbers from uniform distribution between 0 and 1\n",
        "uniform_distribution = np.random.rand(1000)\n",
        "\n",
        "# Generate random integers between 1 and 10\n",
        "random_integers = np.random.randint(1, 11, size=1000)\n",
        "\n",
        "# Generate random numbers from exponential distribution with scale=1\n",
        "exponential_distribution = np.random.exponential(scale=1, size=1000)\n",
        "\n",
        "# Generate random numbers from Poisson distribution with lambda=5\n",
        "poisson_distribution = np.random.poisson(lam=5, size=1000)\n",
        "\n",
        "# Generate random numbers from binomial distribution with n=10 and p=0.5\n",
        "binomial_distribution = np.random.binomial(n=10, p=0.5, size=1000)\n",
        "\n",
        "# Generate random numbers from logistic distribution with mean=0 and scale=1\n",
        "logistic_distribution = np.random.logistic(loc=0, scale=1, size=1000)\n",
        "\n",
        "# Generate random numbers from gamma distribution with shape=2 and scale=2\n",
        "gamma_distribution = np.random.gamma(shape=2, scale=2, size=1000)\n",
        "\n",
        "# Generate random numbers from geometric distribution with p=0.3\n",
        "geometric_distribution = np.random.geometric(p=0.3, size=1000)\n",
        "\n",
        "# Generate random numbers from triangular distribution with parameters a=0, b=2, and c=1\n",
        "triangular_distribution = np.random.triangular(left=0, mode=1, right=2, size=1000)\n",
        "\n",
        "# Generate random numbers from Weibull distribution with shape=1.5\n",
        "weibull_distribution = np.random.weibull(a=1.5, size=1000)\n",
        "\n",
        "# Generate random numbers from beta distribution with alpha=2 and beta=5\n",
        "beta_distribution = np.random.beta(a=2, b=5, size=1000)\n"
      ],
      "metadata": {
        "id": "QOp6heLzj6i9"
      },
      "execution_count": null,
      "outputs": []
    },
    {
      "cell_type": "code",
      "source": [
        "import numpy as np\n",
        "\n",
        "# Create a NumPy array\n",
        "array = np.array([3, 1, 4, 1, 5, 9, 2, 6])\n",
        "\n",
        "# Sort the array in-place\n",
        "array.sort()\n",
        "\n",
        "print(\"Sorted Array:\", array)\n"
      ],
      "metadata": {
        "colab": {
          "base_uri": "https://localhost:8080/"
        },
        "id": "GYro_GSKkfsg",
        "outputId": "1ab957ef-21a3-4046-fdd3-70d026609f46"
      },
      "execution_count": null,
      "outputs": [
        {
          "output_type": "stream",
          "name": "stdout",
          "text": [
            "Sorted Array: [1 1 2 3 4 5 6 9]\n"
          ]
        }
      ]
    },
    {
      "cell_type": "code",
      "source": [
        "import numpy as np\n",
        "\n",
        "# Create a NumPy array\n",
        "array = np.array([3, 1, 4, 1, 5, 9, 2, 6])\n",
        "\n",
        "# Get the sorted indices\n",
        "sorted_indices = np.argsort(array)\n",
        "\n",
        "# Sort the array based on the sorted indices\n",
        "sorted_array = array[sorted_indices]\n",
        "\n",
        "print(\"Original Array:\", array)\n",
        "print(\"Sorted Indices:\", sorted_indices)\n",
        "print(\"Sorted Array:\", sorted_array)\n"
      ],
      "metadata": {
        "colab": {
          "base_uri": "https://localhost:8080/"
        },
        "id": "o8QufdeKk_Df",
        "outputId": "76d79718-3e8b-4717-ab8b-5afa8f2f7d30"
      },
      "execution_count": null,
      "outputs": [
        {
          "output_type": "stream",
          "name": "stdout",
          "text": [
            "Original Array: [3 1 4 1 5 9 2 6]\n",
            "Sorted Indices: [1 3 6 0 2 4 7 5]\n",
            "Sorted Array: [1 1 2 3 4 5 6 9]\n"
          ]
        }
      ]
    },
    {
      "cell_type": "code",
      "source": [
        "import numpy as np\n",
        "\n",
        "# Create a NumPy array\n",
        "array = np.array([1, 2, 3, 4, 5])\n",
        "\n",
        "# Find indices where elements are greater than 3\n",
        "indices = np.where(array > 3)\n",
        "\n",
        "print(\"Original Array:\", array)\n",
        "print(\"Indices where elements are greater than 3:\", indices)\n"
      ],
      "metadata": {
        "colab": {
          "base_uri": "https://localhost:8080/"
        },
        "id": "euNtWhZQlm9f",
        "outputId": "8417a5bc-e378-4180-f40c-c67fafef6ffc"
      },
      "execution_count": null,
      "outputs": [
        {
          "output_type": "stream",
          "name": "stdout",
          "text": [
            "Original Array: [1 2 3 4 5]\n",
            "Indices where elements are greater than 3: (array([3, 4]),)\n"
          ]
        }
      ]
    },
    {
      "cell_type": "code",
      "source": [
        "import numpy as np\n",
        "\n",
        "# Create a NumPy array\n",
        "array = np.array([1, 2, 3, 4, 5])\n",
        "\n",
        "# Check condition for each element\n",
        "condition_result = array > 3\n",
        "\n",
        "print(\"Original Array:\", array)\n",
        "print(\"Condition Result:\", condition_result)\n"
      ],
      "metadata": {
        "colab": {
          "base_uri": "https://localhost:8080/"
        },
        "id": "9QTlagIul7B5",
        "outputId": "90ef608f-1152-49fe-a430-b2d8bfd9ca18"
      },
      "execution_count": null,
      "outputs": [
        {
          "output_type": "stream",
          "name": "stdout",
          "text": [
            "Original Array: [1 2 3 4 5]\n",
            "Condition Result: [False False False  True  True]\n"
          ]
        }
      ]
    },
    {
      "cell_type": "code",
      "source": [
        "from PIL import Image\n",
        "import numpy as np\n",
        "\n",
        "# Specify the full path to the image file\n",
        "image_path = '/path/to/example_image.jpg'\n",
        "\n",
        "# Read the image file using Pillow\n",
        "image = Image.open(image_path)\n",
        "\n",
        "# Convert the image to a NumPy array\n",
        "image_array = np.array(image)\n",
        "\n",
        "# Display the shape and data type of the image array\n",
        "print(\"Image Shape:\", image_array.shape)\n",
        "print(\"Image Data Type:\", image_array.dtype)\n"
      ],
      "metadata": {
        "colab": {
          "base_uri": "https://localhost:8080/",
          "height": 332
        },
        "id": "cK3RbDZdmeG8",
        "outputId": "f53f9aa3-edb9-43f7-ffdc-8d3fd402a67b"
      },
      "execution_count": null,
      "outputs": [
        {
          "output_type": "error",
          "ename": "FileNotFoundError",
          "evalue": "[Errno 2] No such file or directory: '/path/to/example_image.jpg'",
          "traceback": [
            "\u001b[0;31m---------------------------------------------------------------------------\u001b[0m",
            "\u001b[0;31mFileNotFoundError\u001b[0m                         Traceback (most recent call last)",
            "\u001b[0;32m<ipython-input-46-9f9fd6a84339>\u001b[0m in \u001b[0;36m<cell line: 8>\u001b[0;34m()\u001b[0m\n\u001b[1;32m      6\u001b[0m \u001b[0;34m\u001b[0m\u001b[0m\n\u001b[1;32m      7\u001b[0m \u001b[0;31m# Read the image file using Pillow\u001b[0m\u001b[0;34m\u001b[0m\u001b[0;34m\u001b[0m\u001b[0m\n\u001b[0;32m----> 8\u001b[0;31m \u001b[0mimage\u001b[0m \u001b[0;34m=\u001b[0m \u001b[0mImage\u001b[0m\u001b[0;34m.\u001b[0m\u001b[0mopen\u001b[0m\u001b[0;34m(\u001b[0m\u001b[0mimage_path\u001b[0m\u001b[0;34m)\u001b[0m\u001b[0;34m\u001b[0m\u001b[0;34m\u001b[0m\u001b[0m\n\u001b[0m\u001b[1;32m      9\u001b[0m \u001b[0;34m\u001b[0m\u001b[0m\n\u001b[1;32m     10\u001b[0m \u001b[0;31m# Convert the image to a NumPy array\u001b[0m\u001b[0;34m\u001b[0m\u001b[0;34m\u001b[0m\u001b[0m\n",
            "\u001b[0;32m/usr/local/lib/python3.10/dist-packages/PIL/Image.py\u001b[0m in \u001b[0;36mopen\u001b[0;34m(fp, mode, formats)\u001b[0m\n\u001b[1;32m   3225\u001b[0m \u001b[0;34m\u001b[0m\u001b[0m\n\u001b[1;32m   3226\u001b[0m     \u001b[0;32mif\u001b[0m \u001b[0mfilename\u001b[0m\u001b[0;34m:\u001b[0m\u001b[0;34m\u001b[0m\u001b[0;34m\u001b[0m\u001b[0m\n\u001b[0;32m-> 3227\u001b[0;31m         \u001b[0mfp\u001b[0m \u001b[0;34m=\u001b[0m \u001b[0mbuiltins\u001b[0m\u001b[0;34m.\u001b[0m\u001b[0mopen\u001b[0m\u001b[0;34m(\u001b[0m\u001b[0mfilename\u001b[0m\u001b[0;34m,\u001b[0m \u001b[0;34m\"rb\"\u001b[0m\u001b[0;34m)\u001b[0m\u001b[0;34m\u001b[0m\u001b[0;34m\u001b[0m\u001b[0m\n\u001b[0m\u001b[1;32m   3228\u001b[0m         \u001b[0mexclusive_fp\u001b[0m \u001b[0;34m=\u001b[0m \u001b[0;32mTrue\u001b[0m\u001b[0;34m\u001b[0m\u001b[0;34m\u001b[0m\u001b[0m\n\u001b[1;32m   3229\u001b[0m \u001b[0;34m\u001b[0m\u001b[0m\n",
            "\u001b[0;31mFileNotFoundError\u001b[0m: [Errno 2] No such file or directory: '/path/to/example_image.jpg'"
          ]
        }
      ]
    },
    {
      "cell_type": "code",
      "source": [
        "from PIL import Image\n",
        "import numpy as np\n",
        "\n",
        "# Read the image file using Pillow\n",
        "image = Image.open('example_image.jpg')\n",
        "\n",
        "# Convert the image to a NumPy array\n",
        "image_array = np.array(image)\n",
        "\n",
        "# Adjust brightness by adding a constant value to all pixel values\n",
        "brightness_factor = 50\n",
        "brightened_image_array = np.clip(image_array + brightness_factor, 0, 255).astype(np.uint8)\n",
        "\n",
        "# Convert the modified NumPy array back to an image\n",
        "brightened_image = Image.fromarray(brightened_image_array)\n",
        "\n",
        "# Display the original and brightened images\n",
        "image.show()\n",
        "brightened_image.show()\n"
      ],
      "metadata": {
        "colab": {
          "base_uri": "https://localhost:8080/",
          "height": 332
        },
        "id": "KMA6qNXDnVTk",
        "outputId": "614f0a4b-bdbc-4734-9d8c-36a7b80a93dd"
      },
      "execution_count": null,
      "outputs": [
        {
          "output_type": "error",
          "ename": "FileNotFoundError",
          "evalue": "[Errno 2] No such file or directory: 'example_image.jpg'",
          "traceback": [
            "\u001b[0;31m---------------------------------------------------------------------------\u001b[0m",
            "\u001b[0;31mFileNotFoundError\u001b[0m                         Traceback (most recent call last)",
            "\u001b[0;32m<ipython-input-47-99dfad0ac849>\u001b[0m in \u001b[0;36m<cell line: 5>\u001b[0;34m()\u001b[0m\n\u001b[1;32m      3\u001b[0m \u001b[0;34m\u001b[0m\u001b[0m\n\u001b[1;32m      4\u001b[0m \u001b[0;31m# Read the image file using Pillow\u001b[0m\u001b[0;34m\u001b[0m\u001b[0;34m\u001b[0m\u001b[0m\n\u001b[0;32m----> 5\u001b[0;31m \u001b[0mimage\u001b[0m \u001b[0;34m=\u001b[0m \u001b[0mImage\u001b[0m\u001b[0;34m.\u001b[0m\u001b[0mopen\u001b[0m\u001b[0;34m(\u001b[0m\u001b[0;34m'example_image.jpg'\u001b[0m\u001b[0;34m)\u001b[0m\u001b[0;34m\u001b[0m\u001b[0;34m\u001b[0m\u001b[0m\n\u001b[0m\u001b[1;32m      6\u001b[0m \u001b[0;34m\u001b[0m\u001b[0m\n\u001b[1;32m      7\u001b[0m \u001b[0;31m# Convert the image to a NumPy array\u001b[0m\u001b[0;34m\u001b[0m\u001b[0;34m\u001b[0m\u001b[0m\n",
            "\u001b[0;32m/usr/local/lib/python3.10/dist-packages/PIL/Image.py\u001b[0m in \u001b[0;36mopen\u001b[0;34m(fp, mode, formats)\u001b[0m\n\u001b[1;32m   3225\u001b[0m \u001b[0;34m\u001b[0m\u001b[0m\n\u001b[1;32m   3226\u001b[0m     \u001b[0;32mif\u001b[0m \u001b[0mfilename\u001b[0m\u001b[0;34m:\u001b[0m\u001b[0;34m\u001b[0m\u001b[0;34m\u001b[0m\u001b[0m\n\u001b[0;32m-> 3227\u001b[0;31m         \u001b[0mfp\u001b[0m \u001b[0;34m=\u001b[0m \u001b[0mbuiltins\u001b[0m\u001b[0;34m.\u001b[0m\u001b[0mopen\u001b[0m\u001b[0;34m(\u001b[0m\u001b[0mfilename\u001b[0m\u001b[0;34m,\u001b[0m \u001b[0;34m\"rb\"\u001b[0m\u001b[0;34m)\u001b[0m\u001b[0;34m\u001b[0m\u001b[0;34m\u001b[0m\u001b[0m\n\u001b[0m\u001b[1;32m   3228\u001b[0m         \u001b[0mexclusive_fp\u001b[0m \u001b[0;34m=\u001b[0m \u001b[0;32mTrue\u001b[0m\u001b[0;34m\u001b[0m\u001b[0;34m\u001b[0m\u001b[0m\n\u001b[1;32m   3229\u001b[0m \u001b[0;34m\u001b[0m\u001b[0m\n",
            "\u001b[0;31mFileNotFoundError\u001b[0m: [Errno 2] No such file or directory: 'example_image.jpg'"
          ]
        }
      ]
    },
    {
      "cell_type": "code",
      "source": [
        "from PIL import Image\n",
        "import numpy as np\n",
        "\n",
        "# Read the image file using Pillow\n",
        "image = Image.open('example_image.jpg')\n",
        "\n",
        "# Convert the image to a NumPy array\n",
        "image_array = np.array(image)\n",
        "\n",
        "# Resize the image array using NumPy's array manipulation functions\n",
        "new_height = 300\n",
        "new_width = 400\n",
        "resized_image_array = np.array(Image.fromarray(image_array).resize((new_width, new_height)))\n",
        "\n",
        "# Convert the resized NumPy array back to an image\n",
        "resized_image = Image.fromarray(resized_image_array)\n",
        "\n",
        "# Display the original and resized images\n",
        "image.show()\n",
        "resized_image.show()\n"
      ],
      "metadata": {
        "colab": {
          "base_uri": "https://localhost:8080/",
          "height": 332
        },
        "id": "5ntMf_bIn3wg",
        "outputId": "adb64867-9f78-42b1-9537-e498eeabfd54"
      },
      "execution_count": null,
      "outputs": [
        {
          "output_type": "error",
          "ename": "FileNotFoundError",
          "evalue": "[Errno 2] No such file or directory: 'example_image.jpg'",
          "traceback": [
            "\u001b[0;31m---------------------------------------------------------------------------\u001b[0m",
            "\u001b[0;31mFileNotFoundError\u001b[0m                         Traceback (most recent call last)",
            "\u001b[0;32m<ipython-input-48-57f13e88cbf2>\u001b[0m in \u001b[0;36m<cell line: 5>\u001b[0;34m()\u001b[0m\n\u001b[1;32m      3\u001b[0m \u001b[0;34m\u001b[0m\u001b[0m\n\u001b[1;32m      4\u001b[0m \u001b[0;31m# Read the image file using Pillow\u001b[0m\u001b[0;34m\u001b[0m\u001b[0;34m\u001b[0m\u001b[0m\n\u001b[0;32m----> 5\u001b[0;31m \u001b[0mimage\u001b[0m \u001b[0;34m=\u001b[0m \u001b[0mImage\u001b[0m\u001b[0;34m.\u001b[0m\u001b[0mopen\u001b[0m\u001b[0;34m(\u001b[0m\u001b[0;34m'example_image.jpg'\u001b[0m\u001b[0;34m)\u001b[0m\u001b[0;34m\u001b[0m\u001b[0;34m\u001b[0m\u001b[0m\n\u001b[0m\u001b[1;32m      6\u001b[0m \u001b[0;34m\u001b[0m\u001b[0m\n\u001b[1;32m      7\u001b[0m \u001b[0;31m# Convert the image to a NumPy array\u001b[0m\u001b[0;34m\u001b[0m\u001b[0;34m\u001b[0m\u001b[0m\n",
            "\u001b[0;32m/usr/local/lib/python3.10/dist-packages/PIL/Image.py\u001b[0m in \u001b[0;36mopen\u001b[0;34m(fp, mode, formats)\u001b[0m\n\u001b[1;32m   3225\u001b[0m \u001b[0;34m\u001b[0m\u001b[0m\n\u001b[1;32m   3226\u001b[0m     \u001b[0;32mif\u001b[0m \u001b[0mfilename\u001b[0m\u001b[0;34m:\u001b[0m\u001b[0;34m\u001b[0m\u001b[0;34m\u001b[0m\u001b[0m\n\u001b[0;32m-> 3227\u001b[0;31m         \u001b[0mfp\u001b[0m \u001b[0;34m=\u001b[0m \u001b[0mbuiltins\u001b[0m\u001b[0;34m.\u001b[0m\u001b[0mopen\u001b[0m\u001b[0;34m(\u001b[0m\u001b[0mfilename\u001b[0m\u001b[0;34m,\u001b[0m \u001b[0;34m\"rb\"\u001b[0m\u001b[0;34m)\u001b[0m\u001b[0;34m\u001b[0m\u001b[0;34m\u001b[0m\u001b[0m\n\u001b[0m\u001b[1;32m   3228\u001b[0m         \u001b[0mexclusive_fp\u001b[0m \u001b[0;34m=\u001b[0m \u001b[0;32mTrue\u001b[0m\u001b[0;34m\u001b[0m\u001b[0;34m\u001b[0m\u001b[0m\n\u001b[1;32m   3229\u001b[0m \u001b[0;34m\u001b[0m\u001b[0m\n",
            "\u001b[0;31mFileNotFoundError\u001b[0m: [Errno 2] No such file or directory: 'example_image.jpg'"
          ]
        }
      ]
    },
    {
      "cell_type": "code",
      "source": [
        "import numpy as np\n",
        "import pandas as pd\n",
        "\n",
        "# Create a NumPy array\n",
        "data = np.array([[1, 2, 3],\n",
        "                 [4, 5, 6],\n",
        "                 [7, 8, 9]])\n",
        "\n",
        "# Convert the NumPy array to a Pandas DataFrame\n",
        "df = pd.DataFrame(data, columns=['A', 'B', 'C'])\n",
        "\n",
        "# Display the DataFrame\n",
        "print(\"Pandas DataFrame:\")\n",
        "print(df)\n",
        "\n",
        "# Perform data manipulation with Pandas\n",
        "df['D'] = df['A'] + df['B']  # Adding a new column 'D' as the sum of columns 'A' and 'B'\n",
        "\n",
        "# Display the modified DataFrame\n",
        "print(\"\\nModified Pandas DataFrame:\")\n",
        "print(df)\n"
      ],
      "metadata": {
        "colab": {
          "base_uri": "https://localhost:8080/"
        },
        "id": "mKoIP2_YouoJ",
        "outputId": "c368640e-98a5-4193-b6c5-627f283df2f4"
      },
      "execution_count": null,
      "outputs": [
        {
          "output_type": "stream",
          "name": "stdout",
          "text": [
            "Pandas DataFrame:\n",
            "   A  B  C\n",
            "0  1  2  3\n",
            "1  4  5  6\n",
            "2  7  8  9\n",
            "\n",
            "Modified Pandas DataFrame:\n",
            "   A  B  C   D\n",
            "0  1  2  3   3\n",
            "1  4  5  6   9\n",
            "2  7  8  9  15\n"
          ]
        }
      ]
    },
    {
      "cell_type": "code",
      "source": [
        "!git config --global user.name \"nemwelamoro\"\n",
        "!git config --global user.email \"nemwelamoro@gmail.com\"\n"
      ],
      "metadata": {
        "id": "YYJeSK8jN_Ox"
      },
      "execution_count": 1,
      "outputs": []
    },
    {
      "cell_type": "code",
      "source": [
        "!git clone https://github.com/nemwelamoro/Numpy-operations.git"
      ],
      "metadata": {
        "id": "GtVop-1IQfhv",
        "outputId": "66bfa740-1b95-491e-e65d-5cedd91497ca",
        "colab": {
          "base_uri": "https://localhost:8080/"
        }
      },
      "execution_count": 3,
      "outputs": [
        {
          "output_type": "stream",
          "name": "stdout",
          "text": [
            "Cloning into 'Numpy-operations'...\n",
            "remote: Enumerating objects: 3, done.\u001b[K\n",
            "remote: Counting objects: 100% (3/3), done.\u001b[K\n",
            "remote: Compressing objects: 100% (2/2), done.\u001b[K\n",
            "remote: Total 3 (delta 0), reused 0 (delta 0), pack-reused 0\u001b[K\n",
            "Receiving objects: 100% (3/3), done.\n"
          ]
        }
      ]
    },
    {
      "cell_type": "code",
      "source": [
        "\n",
        "%cd Numpy-operations/\n"
      ],
      "metadata": {
        "id": "1uBdLHMKRSG3",
        "outputId": "ea948a37-62e2-4433-e9f7-0652f4a232c3",
        "colab": {
          "base_uri": "https://localhost:8080/"
        }
      },
      "execution_count": 13,
      "outputs": [
        {
          "output_type": "stream",
          "name": "stdout",
          "text": [
            "/content/Numpy-operations\n"
          ]
        }
      ]
    },
    {
      "cell_type": "code",
      "source": [
        "!git add .\n"
      ],
      "metadata": {
        "id": "1xSNbxHTRRxo"
      },
      "execution_count": 18,
      "outputs": []
    },
    {
      "cell_type": "code",
      "source": [
        "!git commit -m \"Initial project commit\"\n"
      ],
      "metadata": {
        "id": "0U56sBwIT-06",
        "outputId": "8b34d3ad-c4d3-4b19-e2dc-54557bdd8a04",
        "colab": {
          "base_uri": "https://localhost:8080/"
        }
      },
      "execution_count": 19,
      "outputs": [
        {
          "output_type": "stream",
          "name": "stdout",
          "text": [
            "On branch main\n",
            "Your branch is up to date with 'origin/main'.\n",
            "\n",
            "nothing to commit, working tree clean\n"
          ]
        }
      ]
    },
    {
      "cell_type": "code",
      "source": [
        "!git push origin main\n"
      ],
      "metadata": {
        "id": "6i0T4PKSUlY1",
        "outputId": "13316e40-9ab7-4481-b0a9-f3e408060e65",
        "colab": {
          "base_uri": "https://localhost:8080/"
        }
      },
      "execution_count": 21,
      "outputs": [
        {
          "output_type": "stream",
          "name": "stdout",
          "text": [
            "fatal: could not read Username for 'https://github.com': No such device or address\n"
          ]
        }
      ]
    }
  ]
}